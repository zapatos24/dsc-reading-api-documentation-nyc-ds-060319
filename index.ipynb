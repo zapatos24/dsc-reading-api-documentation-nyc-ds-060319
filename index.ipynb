{
 "cells": [
  {
   "cell_type": "markdown",
   "metadata": {},
   "source": [
    "# Reading API Documentation\n",
    "\n",
    "## Introduction \n",
    "We've now covered an example API request, but how on Earth would you know how to do that on your own? The answer is through documentation! All APIs will have associated documentation, and while there are substantial similarities, all will be different to one degree or another. The best way to get more comfortable is to practice! So with that, let's take a look at the yelp documentation associated with our previous example.  \n",
    "\n",
    "## Objectives\n",
    "\n",
    "You will be able to:\n",
    "\n",
    "* Read API Documentation\n",
    "* Translate documentation into Python code\n",
    "* Execute get requests in order to utilize the Yelp API\n",
    "\n",
    "Start by navigating to: https://www.yelp.com/developers/documentation/v3/get_started and having a look for yourself!  \n",
    "\n",
    "<img src=\"images/yelp_overview.png\" width=\"800\">\n",
    "\n",
    "As you see at the top, the first piece of almost every API is authentication. \n",
    "\n",
    "This is where we started in the previous codealong, where we went to https://www.yelp.com/developers/v3/manage_app and created a new app. \n",
    "\n",
    "<img src=\"images/yelp_app.png\"  width=\"800\">"
   ]
  },
  {
   "cell_type": "markdown",
   "metadata": {},
   "source": [
    "Let's take a closer look at Yelp's authentication documentation:  \n",
    "https://www.yelp.com/developers/documentation/v3/authentication\n",
    "    \n",
    "<img src=\"images/yelp_auth.png\" width=\"800\">"
   ]
  },
  {
   "cell_type": "markdown",
   "metadata": {},
   "source": [
    "Notice in the documentation, it gives us the specific format \"Put the API Key in the request header as \"Authorization: Bearer <YOUR API KEY>\".\" This is what we passed in our get request.   \n",
    "    \n",
    "As a reminder, we have:"
   ]
  },
  {
   "cell_type": "code",
   "execution_count": 1,
   "metadata": {},
   "outputs": [],
   "source": [
    "import requests"
   ]
  },
  {
   "cell_type": "code",
   "execution_count": 3,
   "metadata": {},
   "outputs": [
    {
     "ename": "NameError",
     "evalue": "name 'api_key' is not defined",
     "output_type": "error",
     "traceback": [
      "\u001b[0;31m\u001b[0m",
      "\u001b[0;31mNameError\u001b[0mTraceback (most recent call last)",
      "\u001b[0;32m<ipython-input-3-d23efae93cd1>\u001b[0m in \u001b[0;36m<module>\u001b[0;34m()\u001b[0m\n\u001b[1;32m      1\u001b[0m \u001b[0;31m# url = #This will be our next step\u001b[0m\u001b[0;34m\u001b[0m\u001b[0;34m\u001b[0m\u001b[0m\n\u001b[0;32m----> 2\u001b[0;31m \u001b[0mheader\u001b[0m \u001b[0;34m=\u001b[0m \u001b[0;34m{\u001b[0m\u001b[0;34m\"Authorization\"\u001b[0m \u001b[0;34m:\u001b[0m \u001b[0;34m\"Bearer {}\"\u001b[0m\u001b[0;34m.\u001b[0m\u001b[0mformat\u001b[0m\u001b[0;34m(\u001b[0m\u001b[0mapi_key\u001b[0m\u001b[0;34m)\u001b[0m\u001b[0;34m}\u001b[0m\u001b[0;34m\u001b[0m\u001b[0m\n\u001b[0m\u001b[1;32m      3\u001b[0m \u001b[0mresponse\u001b[0m \u001b[0;34m=\u001b[0m \u001b[0mrequests\u001b[0m\u001b[0;34m.\u001b[0m\u001b[0mget\u001b[0m\u001b[0;34m(\u001b[0m\u001b[0murl\u001b[0m\u001b[0;34m,\u001b[0m \u001b[0mheader\u001b[0m\u001b[0;34m=\u001b[0m\u001b[0mheader\u001b[0m\u001b[0;34m)\u001b[0m\u001b[0;34m\u001b[0m\u001b[0m\n",
      "\u001b[0;31mNameError\u001b[0m: name 'api_key' is not defined"
     ]
    }
   ],
   "source": [
    "# url = #This will be our next step\n",
    "header = {\"Authorization\" : \"Bearer {}\".format(api_key)}\n",
    "response = requests.get(url, header=header)"
   ]
  },
  {
   "cell_type": "markdown",
   "metadata": {},
   "source": [
    " With that, let's take a look at how the rest of our request should be formatted. Go to https://www.yelp.com/developers/documentation/v3/business_search  and take a couple minutes to look things over.\n",
    " \n",
    " <img src=\"images/yelp_docs.png\"  width=\"800\">"
   ]
  },
  {
   "cell_type": "markdown",
   "metadata": {},
   "source": [
    "Notice the first part is the format of the get request! This is the url we pass into our get request. From there, the available parameters that you can pass are listed. These define your query, some are required while others are optional.\n",
    "\n",
    "Reviewing our python package we thus have:"
   ]
  },
  {
   "cell_type": "code",
   "execution_count": 4,
   "metadata": {},
   "outputs": [],
   "source": [
    "#Note: this cell won't return a valid response unless you specify your api key\n",
    "api_key = 'FIRBuNuP6Au1k53Ys4MupsZaWWE6baB8GMCFNGUOTjSj4-u3A-mJh76nkxPlcyv3dDAYENVtUesOOS6oLwC09n3g0nte42DQf3e0sxgf7YNMmL3d5jQzqKUI4jQSXXYx' #put your api key (as a string) here\n",
    "url = 'https://api.yelp.com/v3/businesses/search'\n",
    "\n",
    "headers = {\n",
    "        'Authorization': 'Bearer {}'.format(api_key),\n",
    "    }\n",
    "\n",
    "url_params = {\n",
    "                'location': 'NYC'\n",
    "            }\n",
    "response = requests.get(url, headers=headers, params=url_params)"
   ]
  },
  {
   "cell_type": "code",
   "execution_count": 5,
   "metadata": {},
   "outputs": [
    {
     "name": "stdout",
     "output_type": "stream",
     "text": [
      "{\"businesses\": [{\"id\": \"H4jJ7XB3CetIr1pg56CczQ\", \"alias\": \"levain-bakery-new-york\", \"name\": \"Levain Bakery\", \"image_url\": \"https://s3-media2.fl.yelpcdn.com/bphoto/jCdrXah--NjPaOLb-30BUw/o.jpg\", \"is_closed\": false, \"url\": \"https://www.yelp.com/biz/levain-bakery-new-york?adjust_creative=mz_sq35JM_TZ3xUfYUT14A&utm_campaign=yelp_api_v3&utm_medium=api_v3_business_search&utm_source=mz_sq35JM_TZ3xUfYUT14A\", \"review_count\": 7589, \"categories\": [{\"alias\": \"bakeries\", \"title\": \"Bakeries\"}], \"rating\": 4.5, \"coordinates\": {\"latitude\": 40.7799404643263, \"longitude\": -73.980282552649}, \"transactions\": [], \"price\": \"$$\", \"location\": {\"address1\": \"167 W 74th St\", \"address2\": \"\", \"address3\": \"\", \"city\": \"New York\", \"zip_code\": \"10023\", \"country\": \"US\", \"state\": \"NY\", \"display_address\": [\"167 W 74th St\", \"New York, NY 10023\"]}, \"phone\": \"+12128746080\", \"display_phone\": \"(212) 874-6080\", \"distance\": 8367.197123060287}, {\"id\": \"xEnNFXtMLDF5kZDxfaCJgA\", \"alias\": \"the-halal-guys-new-york-2\", \"name\": \"The Halal Guys\", \"image_url\": \"https://s3-media1.fl.yelpcdn.com/bphoto/24lb-VP2zVySsY9cq45ETw/o.jpg\", \"is_closed\": false, \"url\": \"https://www.yelp.com/biz/the-halal-guys-new-york-2?adjust_creative=mz_sq35JM_TZ3xUfYUT14A&utm_campaign=yelp_api_v3&utm_medium=api_v3_business_search&utm_source=mz_sq35JM_TZ3xUfYUT14A\", \"review_count\": 9193, \"categories\": [{\"alias\": \"foodstands\", \"title\": \"Food Stands\"}, {\"alias\": \"mideastern\", \"title\": \"Middle Eastern\"}, {\"alias\": \"halal\", \"title\": \"Halal\"}], \"rating\": 4.0, \"coordinates\": {\"latitude\": 40.7617559582706, \"longitude\": -73.979229927063}, \"transactions\": [], \"price\": \"$\", \"location\": {\"address1\": \"W 53rd St 6th Ave\", \"address2\": null, \"address3\": \"\", \"city\": \"New York\", \"zip_code\": \"10019\", \"country\": \"US\", \"state\": \"NY\", \"display_address\": [\"W 53rd St 6th Ave\", \"New York, NY 10019\"]}, \"phone\": \"\", \"display_phone\": \"\", \"distance\": 6388.839589432905}, {\"id\": \"44SY464xDHbvOcjDzRbKkQ\", \"alias\": \"ippudo-ny-new-york-7\", \"name\": \"Ippudo NY\", \"image_url\": \"https://s3-media1.fl.yelpcdn.com/bphoto/zF3EgqHCk7zBUwD2B3WTEA/o.jpg\", \"is_closed\": false, \"url\": \"https://www.yelp.com/biz/ippudo-ny-new-york-7?adjust_creative=mz_sq35JM_TZ3xUfYUT14A&utm_campaign=yelp_api_v3&utm_medium=api_v3_business_search&utm_source=mz_sq35JM_TZ3xUfYUT14A\", \"review_count\": 9771, \"categories\": [{\"alias\": \"ramen\", \"title\": \"Ramen\"}], \"rating\": 4.0, \"coordinates\": {\"latitude\": 40.73092, \"longitude\": -73.99015}, \"transactions\": [\"delivery\", \"pickup\"], \"price\": \"$$\", \"location\": {\"address1\": \"65 4th Ave\", \"address2\": \"\", \"address3\": \"\", \"city\": \"New York\", \"zip_code\": \"10003\", \"country\": \"US\", \"state\": \"NY\", \"display_address\": [\"65 4th Ave\", \"New York, NY 10003\"]}, \"phone\": \"\", \"display_phone\": \"\", \"distance\": 2855.84485141638}, {\"id\": \"V7lXZKBDzScDeGB8JmnzSA\", \"alias\": \"katzs-delicatessen-new-york\", \"name\": \"Katz's Delicatessen\", \"image_url\": \"https://s3-media1.fl.yelpcdn.com/bphoto/B6xNx79cSE7bFxqERBYOhg/o.jpg\", \"is_closed\": false, \"url\": \"https://www.yelp.com/biz/katzs-delicatessen-new-york?adjust_creative=mz_sq35JM_TZ3xUfYUT14A&utm_campaign=yelp_api_v3&utm_medium=api_v3_business_search&utm_source=mz_sq35JM_TZ3xUfYUT14A\", \"review_count\": 11305, \"categories\": [{\"alias\": \"delis\", \"title\": \"Delis\"}, {\"alias\": \"sandwiches\", \"title\": \"Sandwiches\"}, {\"alias\": \"catering\", \"title\": \"Caterers\"}], \"rating\": 4.0, \"coordinates\": {\"latitude\": 40.722237, \"longitude\": -73.98743}, \"transactions\": [\"delivery\", \"pickup\"], \"price\": \"$$\", \"location\": {\"address1\": \"205 E Houston St\", \"address2\": \"\", \"address3\": \"\", \"city\": \"New York\", \"zip_code\": \"10003\", \"country\": \"US\", \"state\": \"NY\", \"display_address\": [\"205 E Houston St\", \"New York, NY 10003\"]}, \"phone\": \"+12122542246\", \"display_phone\": \"(212) 254-2246\", \"distance\": 1954.7472206615387}, {\"id\": \"jVncyqXwlx_D9f2xZn05tg\", \"alias\": \"the-metropolitan-museum-of-art-new-york-3\", \"name\": \"The Metropolitan Museum of Art\", \"image_url\": \"https://s3-media2.fl.yelpcdn.com/bphoto/UZ5-dy--YG4nq9dXqgsQaw/o.jpg\", \"is_closed\": false, \"url\": \"https://www.yelp.com/biz/the-metropolitan-museum-of-art-new-york-3?adjust_creative=mz_sq35JM_TZ3xUfYUT14A&utm_campaign=yelp_api_v3&utm_medium=api_v3_business_search&utm_source=mz_sq35JM_TZ3xUfYUT14A\", \"review_count\": 2718, \"categories\": [{\"alias\": \"artmuseums\", \"title\": \"Art Museums\"}], \"rating\": 4.5, \"coordinates\": {\"latitude\": 40.779254271604, \"longitude\": -73.9628841731528}, \"transactions\": [], \"location\": {\"address1\": \"1000 5th Ave\", \"address2\": \"\", \"address3\": \"\", \"city\": \"New York\", \"zip_code\": \"10028\", \"country\": \"US\", \"state\": \"NY\", \"display_address\": [\"1000 5th Ave\", \"New York, NY 10028\"]}, \"phone\": \"+12125357710\", \"display_phone\": \"(212) 535-7710\", \"distance\": 8623.2495062311}, {\"id\": \"xOw4aafJRji9XomGunlvcQ\", \"alias\": \"central-park-new-york\", \"name\": \"Central Park\", \"image_url\": \"https://s3-media2.fl.yelpcdn.com/bphoto/a_T1R7oNyM-5Vtcx5ZiyPw/o.jpg\", \"is_closed\": false, \"url\": \"https://www.yelp.com/biz/central-park-new-york?adjust_creative=mz_sq35JM_TZ3xUfYUT14A&utm_campaign=yelp_api_v3&utm_medium=api_v3_business_search&utm_source=mz_sq35JM_TZ3xUfYUT14A\", \"review_count\": 2327, \"categories\": [{\"alias\": \"parks\", \"title\": \"Parks\"}], \"rating\": 5.0, \"coordinates\": {\"latitude\": 40.782418740809, \"longitude\": -73.9656022837641}, \"transactions\": [], \"location\": {\"address1\": \"14 E 60th St\", \"address2\": \"\", \"address3\": \"Central Park Conservancy\", \"city\": \"New York\", \"zip_code\": \"10022\", \"country\": \"US\", \"state\": \"NY\", \"display_address\": [\"14 E 60th St\", \"Central Park Conservancy\", \"New York, NY 10022\"]}, \"phone\": \"+12123106600\", \"display_phone\": \"(212) 310-6600\", \"distance\": 8893.835855571413}, {\"id\": \"WHRHK3S1mQc3PmhwsGRvbw\", \"alias\": \"bibble-and-sip-new-york-2\", \"name\": \"Bibble & Sip\", \"image_url\": \"https://s3-media2.fl.yelpcdn.com/bphoto/b4_G7Dc2l1hpHlTjH48kuw/o.jpg\", \"is_closed\": false, \"url\": \"https://www.yelp.com/biz/bibble-and-sip-new-york-2?adjust_creative=mz_sq35JM_TZ3xUfYUT14A&utm_campaign=yelp_api_v3&utm_medium=api_v3_business_search&utm_source=mz_sq35JM_TZ3xUfYUT14A\", \"review_count\": 4444, \"categories\": [{\"alias\": \"coffee\", \"title\": \"Coffee & Tea\"}, {\"alias\": \"bakeries\", \"title\": \"Bakeries\"}], \"rating\": 4.5, \"coordinates\": {\"latitude\": 40.76282, \"longitude\": -73.98518}, \"transactions\": [], \"price\": \"$\", \"location\": {\"address1\": \"253 W 51st St\", \"address2\": \"\", \"address3\": \"\", \"city\": \"New York\", \"zip_code\": \"10019\", \"country\": \"US\", \"state\": \"NY\", \"display_address\": [\"253 W 51st St\", \"New York, NY 10019\"]}, \"phone\": \"+16466495116\", \"display_phone\": \"(646) 649-5116\", \"distance\": 6427.9212521553545}, {\"id\": \"jnEv25Y2DosTq2sNnvmC9g\", \"alias\": \"los-tacos-no-1-new-york\", \"name\": \"Los Tacos No.1\", \"image_url\": \"https://s3-media2.fl.yelpcdn.com/bphoto/FU44TYl3PzXsE06G4W5aog/o.jpg\", \"is_closed\": false, \"url\": \"https://www.yelp.com/biz/los-tacos-no-1-new-york?adjust_creative=mz_sq35JM_TZ3xUfYUT14A&utm_campaign=yelp_api_v3&utm_medium=api_v3_business_search&utm_source=mz_sq35JM_TZ3xUfYUT14A\", \"review_count\": 2708, \"categories\": [{\"alias\": \"tacos\", \"title\": \"Tacos\"}], \"rating\": 4.5, \"coordinates\": {\"latitude\": 40.7425547, \"longitude\": -74.0060838}, \"transactions\": [], \"price\": \"$\", \"location\": {\"address1\": \"75 9th Ave\", \"address2\": \"\", \"address3\": \"\", \"city\": \"New York\", \"zip_code\": \"10011\", \"country\": \"US\", \"state\": \"NY\", \"display_address\": [\"75 9th Ave\", \"New York, NY 10011\"]}, \"phone\": \"+12122560343\", \"display_phone\": \"(212) 256-0343\", \"distance\": 4244.358699250552}, {\"id\": \"UA2M9QFZghe-9th2KwLoWQ\", \"alias\": \"burger-and-lobster-new-york-4\", \"name\": \"Burger & Lobster\", \"image_url\": \"https://s3-media3.fl.yelpcdn.com/bphoto/1rHd7F4zztAsScwzM0vDmw/o.jpg\", \"is_closed\": false, \"url\": \"https://www.yelp.com/biz/burger-and-lobster-new-york-4?adjust_creative=mz_sq35JM_TZ3xUfYUT14A&utm_campaign=yelp_api_v3&utm_medium=api_v3_business_search&utm_source=mz_sq35JM_TZ3xUfYUT14A\", \"review_count\": 5142, \"categories\": [{\"alias\": \"seafood\", \"title\": \"Seafood\"}, {\"alias\": \"burgers\", \"title\": \"Burgers\"}, {\"alias\": \"newamerican\", \"title\": \"American (New)\"}], \"rating\": 4.0, \"coordinates\": {\"latitude\": 40.74007, \"longitude\": -73.99344}, \"transactions\": [\"delivery\", \"pickup\", \"restaurant_reservation\"], \"price\": \"$$\", \"location\": {\"address1\": \"39 W 19th St\", \"address2\": \"\", \"address3\": \"\", \"city\": \"New York\", \"zip_code\": \"10011\", \"country\": \"US\", \"state\": \"NY\", \"display_address\": [\"39 W 19th St\", \"New York, NY 10011\"]}, \"phone\": \"+16468337532\", \"display_phone\": \"(646) 833-7532\", \"distance\": 3852.2188529432046}, {\"id\": \"veq1Bl1DW3UWMekZJUsG1Q\", \"alias\": \"gramercy-tavern-new-york\", \"name\": \"Gramercy Tavern\", \"image_url\": \"https://s3-media4.fl.yelpcdn.com/bphoto/1C20qnil3QUWRl3om2gOFg/o.jpg\", \"is_closed\": false, \"url\": \"https://www.yelp.com/biz/gramercy-tavern-new-york?adjust_creative=mz_sq35JM_TZ3xUfYUT14A&utm_campaign=yelp_api_v3&utm_medium=api_v3_business_search&utm_source=mz_sq35JM_TZ3xUfYUT14A\", \"review_count\": 2768, \"categories\": [{\"alias\": \"newamerican\", \"title\": \"American (New)\"}], \"rating\": 4.5, \"coordinates\": {\"latitude\": 40.738527, \"longitude\": -73.988417}, \"transactions\": [], \"price\": \"$$$$\", \"location\": {\"address1\": \"42 E 20th St\", \"address2\": \"\", \"address3\": \"\", \"city\": \"New York\", \"zip_code\": \"10003\", \"country\": \"US\", \"state\": \"NY\", \"display_address\": [\"42 E 20th St\", \"New York, NY 10003\"]}, \"phone\": \"+12124770777\", \"display_phone\": \"(212) 477-0777\", \"distance\": 3711.7439058285554}, {\"id\": \"JION8hhg7q6zyayHYwhxIw\", \"alias\": \"the-high-line-new-york\", \"name\": \"The High Line\", \"image_url\": \"https://s3-media1.fl.yelpcdn.com/bphoto/Gujj42hSygQGqua-R4iYiQ/o.jpg\", \"is_closed\": false, \"url\": \"https://www.yelp.com/biz/the-high-line-new-york?adjust_creative=mz_sq35JM_TZ3xUfYUT14A&utm_campaign=yelp_api_v3&utm_medium=api_v3_business_search&utm_source=mz_sq35JM_TZ3xUfYUT14A\", \"review_count\": 2258, \"categories\": [{\"alias\": \"parks\", \"title\": \"Parks\"}, {\"alias\": \"localflavor\", \"title\": \"Local Flavor\"}], \"rating\": 4.5, \"coordinates\": {\"latitude\": 40.7479831752801, \"longitude\": -74.0048906107511}, \"transactions\": [], \"location\": {\"address1\": \"820 Washington St\", \"address2\": \"\", \"address3\": \"\", \"city\": \"New York\", \"zip_code\": \"10014\", \"country\": \"US\", \"state\": \"NY\", \"display_address\": [\"820 Washington St\", \"New York, NY 10014\"]}, \"phone\": \"+12122069922\", \"display_phone\": \"(212) 206-9922\", \"distance\": 4813.598883567381}, {\"id\": \"j1S3NUrkB3BVT49n_e76NQ\", \"alias\": \"best-bagel-and-coffee-new-york\", \"name\": \"Best Bagel & Coffee\", \"image_url\": \"https://s3-media2.fl.yelpcdn.com/bphoto/9-8DVzhwfzFS5GUCq3O6NA/o.jpg\", \"is_closed\": false, \"url\": \"https://www.yelp.com/biz/best-bagel-and-coffee-new-york?adjust_creative=mz_sq35JM_TZ3xUfYUT14A&utm_campaign=yelp_api_v3&utm_medium=api_v3_business_search&utm_source=mz_sq35JM_TZ3xUfYUT14A\", \"review_count\": 2909, \"categories\": [{\"alias\": \"bagels\", \"title\": \"Bagels\"}, {\"alias\": \"coffee\", \"title\": \"Coffee & Tea\"}, {\"alias\": \"breakfast_brunch\", \"title\": \"Breakfast & Brunch\"}], \"rating\": 4.5, \"coordinates\": {\"latitude\": 40.7522683, \"longitude\": -73.9910861}, \"transactions\": [], \"price\": \"$\", \"location\": {\"address1\": \"225 W 35th St\", \"address2\": \"\", \"address3\": \"\", \"city\": \"New York\", \"zip_code\": \"10001\", \"country\": \"US\", \"state\": \"NY\", \"display_address\": [\"225 W 35th St\", \"New York, NY 10001\"]}, \"phone\": \"+12125644409\", \"display_phone\": \"(212) 564-4409\", \"distance\": 5213.5315009761325}, {\"id\": \"lWOkeS-wV4no8qqA9OwwEg\", \"alias\": \"doughnut-plant-new-york-6\", \"name\": \"Doughnut Plant\", \"image_url\": \"https://s3-media3.fl.yelpcdn.com/bphoto/JpLMXFWyvpstlC9__dlJKA/o.jpg\", \"is_closed\": false, \"url\": \"https://www.yelp.com/biz/doughnut-plant-new-york-6?adjust_creative=mz_sq35JM_TZ3xUfYUT14A&utm_campaign=yelp_api_v3&utm_medium=api_v3_business_search&utm_source=mz_sq35JM_TZ3xUfYUT14A\", \"review_count\": 3147, \"categories\": [{\"alias\": \"donuts\", \"title\": \"Donuts\"}, {\"alias\": \"coffee\", \"title\": \"Coffee & Tea\"}], \"rating\": 4.5, \"coordinates\": {\"latitude\": 40.7163944930004, \"longitude\": -73.9886098620298}, \"transactions\": [\"delivery\", \"pickup\"], \"price\": \"$$\", \"location\": {\"address1\": \"379 Grand St\", \"address2\": \"\", \"address3\": \"\", \"city\": \"New York\", \"zip_code\": \"10002\", \"country\": \"US\", \"state\": \"NY\", \"display_address\": [\"379 Grand St\", \"New York, NY 10002\"]}, \"phone\": \"+12125053700\", \"display_phone\": \"(212) 505-3700\", \"distance\": 1308.3879515578776}, {\"id\": \"jjJc_CrkB2HodEinB6cWww\", \"alias\": \"lovemama-new-york\", \"name\": \"LoveMama\", \"image_url\": \"https://s3-media1.fl.yelpcdn.com/bphoto/bLlFKTlVuLfmF-lIDGIjZA/o.jpg\", \"is_closed\": false, \"url\": \"https://www.yelp.com/biz/lovemama-new-york?adjust_creative=mz_sq35JM_TZ3xUfYUT14A&utm_campaign=yelp_api_v3&utm_medium=api_v3_business_search&utm_source=mz_sq35JM_TZ3xUfYUT14A\", \"review_count\": 4296, \"categories\": [{\"alias\": \"thai\", \"title\": \"Thai\"}, {\"alias\": \"malaysian\", \"title\": \"Malaysian\"}, {\"alias\": \"vietnamese\", \"title\": \"Vietnamese\"}], \"rating\": 4.0, \"coordinates\": {\"latitude\": 40.7303859, \"longitude\": -73.9860613}, \"transactions\": [\"delivery\", \"pickup\", \"restaurant_reservation\"], \"price\": \"$$\", \"location\": {\"address1\": \"174 2nd Ave\", \"address2\": \"\", \"address3\": \"\", \"city\": \"New York\", \"zip_code\": \"10003\", \"country\": \"US\", \"state\": \"NY\", \"display_address\": [\"174 2nd Ave\", \"New York, NY 10003\"]}, \"phone\": \"+12122545370\", \"display_phone\": \"(212) 254-5370\", \"distance\": 2858.7729410008346}, {\"id\": \"4yPqqJDJOQX69gC66YUDkA\", \"alias\": \"peter-luger-brooklyn-2\", \"name\": \"Peter Luger\", \"image_url\": \"https://s3-media2.fl.yelpcdn.com/bphoto/DnReRUkXRtsmKycQEYl0pg/o.jpg\", \"is_closed\": false, \"url\": \"https://www.yelp.com/biz/peter-luger-brooklyn-2?adjust_creative=mz_sq35JM_TZ3xUfYUT14A&utm_campaign=yelp_api_v3&utm_medium=api_v3_business_search&utm_source=mz_sq35JM_TZ3xUfYUT14A\", \"review_count\": 5416, \"categories\": [{\"alias\": \"steak\", \"title\": \"Steakhouses\"}], \"rating\": 4.0, \"coordinates\": {\"latitude\": 40.709945, \"longitude\": -73.962478}, \"transactions\": [], \"price\": \"$$$$\", \"location\": {\"address1\": \"178 Broadway\", \"address2\": \"\", \"address3\": \"\", \"city\": \"Brooklyn\", \"zip_code\": \"11211\", \"country\": \"US\", \"state\": \"NY\", \"display_address\": [\"178 Broadway\", \"Brooklyn, NY 11211\"]}, \"phone\": \"+17183877400\", \"display_phone\": \"(718) 387-7400\", \"distance\": 2728.016921522817}, {\"id\": \"zj8Lq1T8KIC5zwFief15jg\", \"alias\": \"prince-street-pizza-new-york-2\", \"name\": \"Prince Street Pizza\", \"image_url\": \"https://s3-media3.fl.yelpcdn.com/bphoto/ZAukOyv530w4KjOHC5YY1w/o.jpg\", \"is_closed\": false, \"url\": \"https://www.yelp.com/biz/prince-street-pizza-new-york-2?adjust_creative=mz_sq35JM_TZ3xUfYUT14A&utm_campaign=yelp_api_v3&utm_medium=api_v3_business_search&utm_source=mz_sq35JM_TZ3xUfYUT14A\", \"review_count\": 2861, \"categories\": [{\"alias\": \"pizza\", \"title\": \"Pizza\"}, {\"alias\": \"italian\", \"title\": \"Italian\"}], \"rating\": 4.5, \"coordinates\": {\"latitude\": 40.7229087705545, \"longitude\": -73.9944863319397}, \"transactions\": [\"delivery\", \"pickup\"], \"price\": \"$\", \"location\": {\"address1\": \"27 Prince St\", \"address2\": null, \"address3\": \"\", \"city\": \"New York\", \"zip_code\": \"10012\", \"country\": \"US\", \"state\": \"NY\", \"display_address\": [\"27 Prince St\", \"New York, NY 10012\"]}, \"phone\": \"+12129664100\", \"display_phone\": \"(212) 966-4100\", \"distance\": 1941.9638172538225}, {\"id\": \"kViIWJFfAfWPpJOwAXBKGA\", \"alias\": \"national-september-11-memorial-museum-new-york\", \"name\": \"National September 11 Memorial Museum\", \"image_url\": \"https://s3-media2.fl.yelpcdn.com/bphoto/gFr_zDiUm8QJ-4gkG8v6Uw/o.jpg\", \"is_closed\": false, \"url\": \"https://www.yelp.com/biz/national-september-11-memorial-museum-new-york?adjust_creative=mz_sq35JM_TZ3xUfYUT14A&utm_campaign=yelp_api_v3&utm_medium=api_v3_business_search&utm_source=mz_sq35JM_TZ3xUfYUT14A\", \"review_count\": 1357, \"categories\": [{\"alias\": \"museums\", \"title\": \"Museums\"}], \"rating\": 4.5, \"coordinates\": {\"latitude\": 40.71144, \"longitude\": -74.01301}, \"transactions\": [], \"location\": {\"address1\": \"180 Greenwich St\", \"address2\": \"\", \"address3\": \"\", \"city\": \"New York\", \"zip_code\": \"10007\", \"country\": \"US\", \"state\": \"NY\", \"display_address\": [\"180 Greenwich St\", \"New York, NY 10007\"]}, \"phone\": \"+12122665211\", \"display_phone\": \"(212) 266-5211\", \"distance\": 1670.4082440403122}, {\"id\": \"FEVQpbOPOwAPNIgO7D3xxw\", \"alias\": \"shake-shack-new-york-2\", \"name\": \"Shake Shack\", \"image_url\": \"https://s3-media3.fl.yelpcdn.com/bphoto/J0UoRJKdaMl0EPdgxYIlKw/o.jpg\", \"is_closed\": false, \"url\": \"https://www.yelp.com/biz/shake-shack-new-york-2?adjust_creative=mz_sq35JM_TZ3xUfYUT14A&utm_campaign=yelp_api_v3&utm_medium=api_v3_business_search&utm_source=mz_sq35JM_TZ3xUfYUT14A\", \"review_count\": 5533, \"categories\": [{\"alias\": \"burgers\", \"title\": \"Burgers\"}, {\"alias\": \"foodstands\", \"title\": \"Food Stands\"}, {\"alias\": \"icecream\", \"title\": \"Ice Cream & Frozen Yogurt\"}], \"rating\": 4.0, \"coordinates\": {\"latitude\": 40.7414000197233, \"longitude\": -73.98815019045}, \"transactions\": [\"delivery\"], \"price\": \"$$\", \"location\": {\"address1\": \"Madison Square Park\", \"address2\": \"\", \"address3\": \"E 23rd St & Madison Ave\", \"city\": \"New York\", \"zip_code\": \"10010\", \"country\": \"US\", \"state\": \"NY\", \"display_address\": [\"Madison Square Park\", \"E 23rd St & Madison Ave\", \"New York, NY 10010\"]}, \"phone\": \"+12128896600\", \"display_phone\": \"(212) 889-6600\", \"distance\": 4031.402495127816}, {\"id\": \"nU4XBdvxDABXqZ6CnB8Dig\", \"alias\": \"clinton-street-baking-company-new-york-5\", \"name\": \"Clinton Street Baking Company\", \"image_url\": \"https://s3-media1.fl.yelpcdn.com/bphoto/DWHdizJ9bKbXN4yq6nbwAA/o.jpg\", \"is_closed\": false, \"url\": \"https://www.yelp.com/biz/clinton-street-baking-company-new-york-5?adjust_creative=mz_sq35JM_TZ3xUfYUT14A&utm_campaign=yelp_api_v3&utm_medium=api_v3_business_search&utm_source=mz_sq35JM_TZ3xUfYUT14A\", \"review_count\": 4712, \"categories\": [{\"alias\": \"bakeries\", \"title\": \"Bakeries\"}, {\"alias\": \"breakfast_brunch\", \"title\": \"Breakfast & Brunch\"}, {\"alias\": \"tradamerican\", \"title\": \"American (Traditional)\"}], \"rating\": 4.0, \"coordinates\": {\"latitude\": 40.721128, \"longitude\": -73.983933}, \"transactions\": [\"delivery\", \"pickup\", \"restaurant_reservation\"], \"price\": \"$$\", \"location\": {\"address1\": \"4 Clinton St\", \"address2\": \"\", \"address3\": \"\", \"city\": \"New York\", \"zip_code\": \"10002\", \"country\": \"US\", \"state\": \"NY\", \"display_address\": [\"4 Clinton St\", \"New York, NY 10002\"]}, \"phone\": \"+16466026263\", \"display_phone\": \"(646) 602-6263\", \"distance\": 1950.282829638887}, {\"id\": \"vRrVSB-LegwUwIxpkeRVtQ\", \"alias\": \"le-bernardin-new-york\", \"name\": \"Le Bernardin\", \"image_url\": \"https://s3-media1.fl.yelpcdn.com/bphoto/_l7kqOjvhPHlgHqoQ8Egow/o.jpg\", \"is_closed\": false, \"url\": \"https://www.yelp.com/biz/le-bernardin-new-york?adjust_creative=mz_sq35JM_TZ3xUfYUT14A&utm_campaign=yelp_api_v3&utm_medium=api_v3_business_search&utm_source=mz_sq35JM_TZ3xUfYUT14A\", \"review_count\": 2413, \"categories\": [{\"alias\": \"french\", \"title\": \"French\"}, {\"alias\": \"lounges\", \"title\": \"Lounges\"}], \"rating\": 4.5, \"coordinates\": {\"latitude\": 40.761557, \"longitude\": -73.981763}, \"transactions\": [], \"price\": \"$$$$\", \"location\": {\"address1\": \"155 W 51st St\", \"address2\": \"\", \"address3\": \"The Equitable Bldg\", \"city\": \"New York\", \"zip_code\": \"10019\", \"country\": \"US\", \"state\": \"NY\", \"display_address\": [\"155 W 51st St\", \"The Equitable Bldg\", \"New York, NY 10019\"]}, \"phone\": \"+12125541515\", \"display_phone\": \"(212) 554-1515\", \"distance\": 6328.07179784047}], \"total\": 25000, \"region\": {\"center\": {\"longitude\": -73.99429321289062, \"latitude\": 40.70544486444615}}}\n"
     ]
    }
   ],
   "source": [
    "print(response.headers)"
   ]
  },
  {
   "cell_type": "markdown",
   "metadata": {},
   "source": [
    "Note that location or latitude and longitude are the only required parameters. That said, you are free to pass as many parameters as you want such as:"
   ]
  },
  {
   "cell_type": "code",
   "execution_count": null,
   "metadata": {},
   "outputs": [],
   "source": [
    "#Note: this cell won't return a valid response unless you specify your api key\n",
    "api_key = 'FIRBuNuP6Au1k53Ys4MupsZaWWE6baB8GMCFNGUOTjSj4-u3A-mJh76nkxPlcyv3dDAYENVtUesOOS6oLwC09n3g0nte42DQf3e0sxgf7YNMmL3d5jQzqKUI4jQSXXYx' #put your api key (as a string) here\n",
    "\n",
    "url = 'https://api.yelp.com/v3/businesses/search'\n",
    "\n",
    "headers = {\n",
    "        'Authorization': 'Bearer {}'.format(api_key),\n",
    "    }\n",
    "\n",
    "url_params = {\n",
    "                'location': 'NYC',\n",
    "                'term' : 'pizza',\n",
    "                'limit' : 50,\n",
    "                'price' : \"1,2,3,4\",\n",
    "                'open_now' : True\n",
    "            }\n",
    "response = requests.get(url, headers=headers, params=url_params)"
   ]
  },
  {
   "cell_type": "markdown",
   "metadata": {},
   "source": [
    "The final important note is how some of the parameters have alternative formats. For example, `limit` is an integer and `open_now` is a boolean according to the documentation. Following these conventions is essential to receiving valid responses.\n",
    "\n",
    "# Summary\n",
    "\n",
    "Congratulations! Not only have you seen an API now, you've also practiced sifting through the documentation. The last piece in working with APIs is developing a more solid understanding of JSON files; the data format typically returned by modern APIs. Take some additional time and familiarize yourself with some further aspects of the documentation which you may wish to investigate in the upcoming lab!"
   ]
  }
 ],
 "metadata": {
  "kernelspec": {
   "display_name": "Python 3",
   "language": "python",
   "name": "python3"
  },
  "language_info": {
   "codemirror_mode": {
    "name": "ipython",
    "version": 3
   },
   "file_extension": ".py",
   "mimetype": "text/x-python",
   "name": "python",
   "nbconvert_exporter": "python",
   "pygments_lexer": "ipython3",
   "version": "3.6.6"
  }
 },
 "nbformat": 4,
 "nbformat_minor": 2
}
